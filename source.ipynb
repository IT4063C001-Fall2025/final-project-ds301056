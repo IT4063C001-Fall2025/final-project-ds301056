{
 "cells": [
  {
   "attachments": {},
   "cell_type": "markdown",
   "metadata": {},
   "source": [
    "# {Fast Food & General Nutrition Analysis}📝\n",
    "\n",
    "![Banner](./assets/banner.jpeg)"
   ]
  },
  {
   "attachments": {},
   "cell_type": "markdown",
   "metadata": {},
   "source": [
    "## Topic\n",
    "*What problem are you (or your stakeholder) trying to address?*\n",
    "📝 <!-- Answer Below -->"
   ]
  },
  {
   "cell_type": "markdown",
   "metadata": {},
   "source": [
    "Many people regularly consume fast food, but nutritional information is often difficult to interpret, inconsistent across sources, or overlooked when making food choices. This creates challenges for:\n",
    "\n",
    "Consumers → making informed dietary decisions.\n",
    "\n",
    "Healthcare professionals → guiding patients on nutrition.\n",
    "\n",
    "Researchers/educators → understanding how fast food compares with general food supply."
   ]
  },
  {
   "attachments": {},
   "cell_type": "markdown",
   "metadata": {},
   "source": [
    "## Project Question\n",
    "*What specific question are you seeking to answer with this project?*\n",
    "*This is not the same as the questions you ask to limit the scope of the project.*\n",
    "📝 <!-- Answer Below -->"
   ]
  },
  {
   "cell_type": "markdown",
   "metadata": {},
   "source": [
    "What is the nutritional difference between fast food menu items and general food items, and how do these values compare against authoritative USDA standards?"
   ]
  },
  {
   "attachments": {},
   "cell_type": "markdown",
   "metadata": {},
   "source": [
    "## What would an answer look like?\n",
    "*What is your hypothesized answer to your question?*\n",
    "📝 <!-- Answer Below -->"
   ]
  },
  {
   "cell_type": "markdown",
   "metadata": {},
   "source": [
    "the answer could look like a summary table, a bar chart showing averages, boxplots with sugar per content or a scatter plot of protein vs calories.  "
   ]
  },
  {
   "attachments": {},
   "cell_type": "markdown",
   "metadata": {},
   "source": [
    "## Data Sources\n",
    "*What 3 data sources have you identified for this project?*\n",
    "*How are you going to relate these datasets?*\n",
    "📝 <!-- Answer Below -->"
   ]
  },
  {
   "cell_type": "markdown",
   "metadata": {},
   "source": [
    "Kaggle Dataset (CSV) — Fast Food Nutrition Dataset\n",
    "\n",
    "https://www.kaggle.com/datasets/ulrikthygepedersen/fastfood-nutrition\n",
    "\n",
    "Contains nutrition facts for menu items from popular fast food restaurants (calories, fat, protein, etc.)\n",
    "\n",
    "Kaggle Dataset (CSV) — Nutritional Content of Food\n",
    "\n",
    "https://www.kaggle.com/datasets/thedevastator/the-nutritional-content-of-food-a-comprehensive\n",
    "\n",
    "Comprehensive dataset of nutrition facts for thousands of foods from various categories, not limited to fast food.\n",
    "\n",
    "USDA FoodData Central API — FoodData Central\n",
    "\n",
    "https://fdc.nal.usda.gov/"
   ]
  },
  {
   "attachments": {},
   "cell_type": "markdown",
   "metadata": {},
   "source": [
    "## Approach and Analysis\n",
    "*What is your approach to answering your project question?*\n",
    "*How will you use the identified data to answer your project question?*\n",
    "📝 <!-- Start Discussing the project here; you can add as many code cells as you need -->"
   ]
  },
  {
   "cell_type": "code",
   "execution_count": 9,
   "metadata": {},
   "outputs": [],
   "source": [
    "# 1. Import and cleaning data\n",
    "# Load the Kaggle Fast Food Nutrition dataset and General Nutrition dataset into pandas dataframes.\n",
    "\n",
    "import pandas as pd\n",
    "\n",
    "fast_food_df = pd.read_csv(\"datasets\\\\fastfood.csv\")\n",
    "general_nutrition_df = pd.read_csv(\"datasets\\\\food_nutrition.csv\")\n",
    "\n",
    "# 2. Data Cleaning\n",
    "# Standardize column names and units (e.g., calories, grams of fat, sugar, protein).\n",
    "# Handle missing values and normalize food names for easier comparison.\n",
    "\n",
    "# 3. USDA API Integration\n",
    "# Use the USDA FoodData Central API to fetch official nutrition facts\n",
    "# for selected overlapping items (e.g., \"cheeseburger\", \"chicken sandwich\", \"salad\").\n",
    "# Align these values with Kaggle datasets to check consistency and accuracy.\n",
    "\n",
    "# 4. Data Merging\n",
    "# Create a combined dataset where each food item has:\n",
    "# - Source (Fast Food, General Food, USDA)\n",
    "# - Calories, fat, sugar, protein, sodium\n",
    "# Use food names as keys for merging (after text cleaning/matching).\n",
    "\n",
    "# 5. Exploratory Data Analysis (EDA)\n",
    "# - Summary statistics (mean, median, std deviation) for each nutrient by category\n",
    "# - Comparisons: Fast food vs general food vs USDA benchmarks\n",
    "# - Visualization: bar charts, boxplots, scatterplots, heatmaps\n",
    "\n",
    "# 6. Answering the Question\n",
    "# Quantitatively: Compare calories/fat/sugar across datasets\n",
    "# Qualitatively: Show how USDA data validates or contradicts Kaggle datasets\n"
   ]
  },
  {
   "cell_type": "code",
   "execution_count": null,
   "metadata": {},
   "outputs": [],
   "source": []
  },
  {
   "attachments": {},
   "cell_type": "markdown",
   "metadata": {},
   "source": [
    "## Resources and References\n",
    "*What resources and references have you used for this project?*\n",
    "📝 <!-- Answer Below -->"
   ]
  },
  {
   "cell_type": "markdown",
   "metadata": {},
   "source": [
    "# Resources and References\n",
    "\n",
    "## Datasets\n",
    "- [Fast Food Nutrition Dataset (Kaggle)](https://www.kaggle.com/datasets/ulrikthygepedersen/fastfood-nutrition)  \n",
    "- [Nutritional Content of Food Dataset (Kaggle)](https://www.kaggle.com/datasets/thedevastator/the-nutritional-content-of-food-a-comprehensive)  \n",
    "- [USDA FoodData Central API](https://fdc.nal.usda.gov/api-guide.html)  \n",
    "\n",
    "## Tools & Libraries\n",
    "- Python 3.12  \n",
    "- pandas, matplotlib, seaborn, requests, jupyter  \n",
    "- Visual Studio Code / Jupyter Notebook  \n",
    "\n",
    "## Support for Editing & Clarity\n",
    "- ChatGPT (for refining project structure, clarifying wording, and drafting sections)  \n",
    "\n",
    "---\n",
    "\n",
    " **Note for Submission**  \n",
    "Make sure you run this command at the end of your notebook to generate a `.py` file for submission:  \n",
    "\n",
    "```bash\n",
    "!jupyter nbconvert --to python source.ipynb\n"
   ]
  },
  {
   "cell_type": "code",
   "execution_count": 13,
   "metadata": {},
   "outputs": [
    {
     "name": "stderr",
     "output_type": "stream",
     "text": [
      "[NbConvertApp] Converting notebook source.ipynb to python\n",
      "[NbConvertApp] Writing 4267 bytes to source.py\n"
     ]
    }
   ],
   "source": [
    "!jupyter nbconvert --to python source.ipynb"
   ]
  },
  {
   "cell_type": "code",
   "execution_count": null,
   "metadata": {},
   "outputs": [],
   "source": []
  }
 ],
 "metadata": {
  "kernelspec": {
   "display_name": ".venv (3.12.1)",
   "language": "python",
   "name": "python3"
  },
  "language_info": {
   "codemirror_mode": {
    "name": "ipython",
    "version": 3
   },
   "file_extension": ".py",
   "mimetype": "text/x-python",
   "name": "python",
   "nbconvert_exporter": "python",
   "pygments_lexer": "ipython3",
   "version": "3.12.1"
  },
  "orig_nbformat": 4
 },
 "nbformat": 4,
 "nbformat_minor": 2
}
